{
 "cells": [
  {
   "cell_type": "markdown",
   "id": "ea5ef673",
   "metadata": {},
   "source": [
    "# Risk Calculation Examples (v2)\n",
    "This notebook demonstrates healthcare-specific risk calculations with temporal and equity weights."
   ]
  },
  {
   "cell_type": "markdown",
   "id": "560e84a4",
   "metadata": {},
   "source": [
    "## Imports & Setup"
   ]
  },
  {
   "cell_type": "code",
   "execution_count": null,
   "id": "61ef169b",
   "metadata": {},
   "outputs": [],
   "source": [
    "import pandas as pd\n",
    "import numpy as np\n",
    "import matplotlib.pyplot as plt\n",
    "from pathlib import Path\n",
    "import sys, json\n",
    "\n",
    "sys.path.append(str(Path('..').resolve()))\n",
    "from src import risk_models as rm\n",
    "\n",
    "df = pd.read_csv('../data/example_inputs.csv')\n",
    "df.head()"
   ]
  },
  {
   "cell_type": "markdown",
   "id": "df5e1442",
   "metadata": {},
   "source": [
    "## Parameter Panel (interactive)"
   ]
  },
  {
   "cell_type": "code",
   "execution_count": null,
   "id": "19cd0968",
   "metadata": {},
   "outputs": [],
   "source": [
    "try:\n",
    "    import ipywidgets as widgets\n",
    "    from IPython.display import display\n",
    "    row = df.iloc[0].to_dict()\n",
    "\n",
    "    sliders = {\n",
    "        'probability_failure': widgets.FloatSlider(value=row['probability_failure'], min=0, max=1, step=0.01, description='p_fail'),\n",
    "        'impact_severity': widgets.FloatSlider(value=row['impact_severity'], min=0, max=1, step=0.01, description='severity'),\n",
    "        'data_volume': widgets.IntSlider(value=int(row['data_volume']), min=0, max=50000, step=100, description='data_vol'),\n",
    "        'standardization_maturity': widgets.FloatSlider(value=row['standardization_maturity'], min=0.01, max=1, step=0.01, description='std_maturity'),\n",
    "        'missed_benefits_usd': widgets.IntSlider(value=int(row['missed_benefits_usd']), min=0, max=5000000, step=10000, description='missed_usd'),\n",
    "        'time_delay_months': widgets.IntSlider(value=int(row['time_delay_months']), min=0, max=24, step=1, description='delay_mo'),\n",
    "        'patient_population': widgets.IntSlider(value=int(row['patient_population']), min=1, max=200000, step=100, description='population'),\n",
    "        'current_performance': widgets.FloatSlider(value=row['current_performance'], min=0, max=1, step=0.01, description='baseline'),\n",
    "        'system_conflicts': widgets.FloatSlider(value=row['system_conflicts'], min=0, max=1, step=0.01, description='sys_conf'),\n",
    "        'workflow_disruption': widgets.FloatSlider(value=row['workflow_disruption'], min=0, max=1, step=0.01, description='workflow'),\n",
    "        'user_confusion': widgets.FloatSlider(value=row['user_confusion'], min=0, max=1, step=0.01, description='confusion'),\n",
    "        'integration_quality': widgets.FloatSlider(value=row['integration_quality'], min=0, max=1, step=0.01, description='integration'),\n",
    "        'vulnerability_score': widgets.FloatSlider(value=row['vulnerability_score'], min=0, max=1, step=0.01, description='vulnerab'),\n",
    "        'access_barriers': widgets.FloatSlider(value=row['access_barriers'], min=0, max=1, step=0.01, description='barriers'),\n",
    "        'outcome_disparities': widgets.FloatSlider(value=row['outcome_disparities'], min=0, max=1, step=0.01, description='disparity'),\n",
    "        'discount_rate': widgets.FloatSlider(value=row['discount_rate'], min=0, max=0.2, step=0.005, description='discount'),\n",
    "        'time_horizon_years': widgets.FloatSlider(value=row['time_horizon_years'], min=0, max=5, step=0.1, description='horizon'),\n",
    "        'urgency_factor': widgets.FloatSlider(value=row['urgency_factor'], min=0, max=2, step=0.1, description='urgency'),\n",
    "        'w_impl': widgets.FloatSlider(value=row['w_impl'], min=0, max=1, step=0.05, description='w_impl'),\n",
    "        'w_opp': widgets.FloatSlider(value=row['w_opp'], min=0, max=1, step=0.05, description='w_opp'),\n",
    "        'w_int': widgets.FloatSlider(value=row['w_int'], min=0, max=1, step=0.05, description='w_int'),\n",
    "        'opp_cap_usd_per_patient': widgets.IntSlider(value=int(row['opp_cap_usd_per_patient']), min=1000, max=50000, step=500, description='opp_cap'),\n",
    "    }\n",
    "\n",
    "    def on_change(change=None):\n",
    "        params = {k:(v.value) for k,v in sliders.items()}\n",
    "        out = rm.total_risk(params)\n",
    "        print(out)\n",
    "\n",
    "    box = widgets.VBox(list(sliders.values()))\n",
    "    display(box)\n",
    "    on_change()\n",
    "except Exception as e:\n",
    "    print(\"ipywidgets not available; skipping interactive panel.\", e)"
   ]
  },
  {
   "cell_type": "markdown",
   "id": "d0216152",
   "metadata": {},
   "source": [
    "## Compute per-scenario results"
   ]
  },
  {
   "cell_type": "code",
   "execution_count": null,
   "id": "f451cdce",
   "metadata": {},
   "outputs": [],
   "source": [
    "def compute_row(row):\n",
    "    params = row.to_dict()\n",
    "    out = rm.total_risk(params)\n",
    "    return pd.Series(out)\n",
    "\n",
    "results = df.apply(compute_row, axis=1)\n",
    "display(pd.concat([df[['scenario','clinical_area']], results], axis=1))"
   ]
  },
  {
   "cell_type": "markdown",
   "id": "f2b4182d",
   "metadata": {},
   "source": [
    "## Hand-Checkable Validation Example"
   ]
  },
  {
   "cell_type": "code",
   "execution_count": null,
   "id": "843e0284",
   "metadata": {},
   "outputs": [],
   "source": [
    "val = pd.read_csv('../data/validation_scenarios.csv').iloc[0].to_dict()\n",
    "out = rm.total_risk(val)\n",
    "print('Validation output:', out)\n",
    "print('Manual check embedded in tests/test_suite.py comments.')"
   ]
  },
  {
   "cell_type": "markdown",
   "id": "e582397d",
   "metadata": {},
   "source": [
    "## Sensitivity Analysis (Tornado Plot)"
   ]
  },
  {
   "cell_type": "code",
   "execution_count": null,
   "id": "68b56d20",
   "metadata": {},
   "outputs": [],
   "source": [
    "row = df.iloc[0].to_dict()\n",
    "base = rm.total_risk(row)['r_total']\n",
    "\n",
    "def vary(param, scale=0.2):\n",
    "    r = row.copy()\n",
    "    if isinstance(r[param], (int,float)):\n",
    "        delta = r[param]*scale if r[param]!=0 else scale\n",
    "        up = r.copy(); up[param] = r[param] + delta\n",
    "        dn = r.copy(); dn[param] = max(0, r[param] - delta)\n",
    "        up_val = rm.total_risk(up)['r_total']\n",
    "        dn_val = rm.total_risk(dn)['r_total']\n",
    "        return param, base-dn_val, up_val-base\n",
    "    return None\n",
    "\n",
    "params_to_test = ['probability_failure','impact_severity','data_volume','standardization_maturity','missed_benefits_usd','time_delay_months','patient_population','current_performance','system_conflicts','workflow_disruption','user_confusion','integration_quality','vulnerability_score','access_barriers','outcome_disparities','discount_rate','time_horizon_years','urgency_factor']\n",
    "bars = [vary(p) for p in params_to_test]\n",
    "bars = [b for b in bars if b]\n",
    "\n",
    "labels = [b[0] for b in bars]\n",
    "left = [b[1] for b in bars]\n",
    "right = [b[2] for b in bars]\n",
    "\n",
    "y = np.arange(len(labels))\n",
    "plt.figure(figsize=(8, max(6,len(labels)*0.3)))\n",
    "for i in range(len(labels)):\n",
    "    plt.barh(i, right[i])\n",
    "    plt.barh(i, -left[i])\n",
    "plt.yticks(y, labels)\n",
    "plt.axvline(0, linewidth=1)\n",
    "plt.title('Tornado Analysis (±20%)')\n",
    "plt.tight_layout()\n",
    "plt.show()"
   ]
  },
  {
   "cell_type": "markdown",
   "id": "cffcaf37",
   "metadata": {},
   "source": [
    "## Clinical Interpretation"
   ]
  },
  {
   "cell_type": "markdown",
   "id": "ba7fe56a",
   "metadata": {},
   "source": [
    "Results should be interpreted with clinical stakeholders. High `opportunity_risk` suggests time-to-benefit losses; high `interaction_risk` flags socio-technical issues needing integration work; equity weights >1 indicate at-risk populations warranting priority."
   ]
  }
 ],
 "metadata": {},
 "nbformat": 4,
 "nbformat_minor": 5
}
